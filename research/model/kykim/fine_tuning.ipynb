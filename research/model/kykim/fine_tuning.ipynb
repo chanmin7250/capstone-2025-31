{
 "cells": [
  {
   "cell_type": "code",
   "execution_count": null,
   "metadata": {},
   "outputs": [],
   "source": [
    "import os\n",
    "from sentence_transformers import models, SentenceTransformer, InputExample, losses\n",
    "from torch.utils.data import DataLoader"
   ]
  },
  {
   "cell_type": "code",
   "execution_count": null,
   "metadata": {},
   "outputs": [],
   "source": [
    "# 1. 모델 불러오기 (kykim BERT → SBERT 구조)\n",
    "word_embedding_model = models.Transformer(\"./kykim_bert_kor_base_model\")\n",
    "pooling_model = models.Pooling(word_embedding_model.get_word_embedding_dimension())\n",
    "model = SentenceTransformer(modules=[word_embedding_model, pooling_model])"
   ]
  },
  {
   "cell_type": "code",
   "execution_count": null,
   "metadata": {},
   "outputs": [],
   "source": [
    "def read_file(path):\n",
    "    with open(path, \"r\", encoding=\"utf-8\") as f:\n",
    "        return [line.strip() for line in f if line.strip()]"
   ]
  },
  {
   "cell_type": "code",
   "execution_count": null,
   "metadata": {},
   "outputs": [],
   "source": [
    "godae_ori = read_file(os.path.join(\"./고대/\", \"고대-ori.txt\"))\n",
    "fruit_ori = read_file(os.path.join(\"./과일/\", \"과일-ori.txt\"))\n",
    "godae_variants = [read_file(os.path.join(\"./고대/\", f\"고대-{i}.txt\")) for i in range(1, 6)]\n",
    "fruit_variants = [read_file(os.path.join(\"./과일/\", f\"과일-{i}.txt\")) for i in range(1, 6)]"
   ]
  },
  {
   "cell_type": "code",
   "execution_count": null,
   "metadata": {},
   "outputs": [],
   "source": [
    "train_examples = []\n",
    "\n",
    "# ➤ 긍정쌍 (문장 의미 같음)\n",
    "for i in range(len(godae_ori)):\n",
    "    for variant in godae_variants:\n",
    "        train_examples.append(InputExample(texts=[godae_ori[i], variant[i]], label=1.0))\n",
    "    for variant in fruit_variants:\n",
    "        train_examples.append(InputExample(texts=[fruit_ori[i], variant[i]], label=1.0))\n",
    "\n",
    "# ➤ 부정쌍 (문맥/주제 다름: 고대 vs 과일)\n",
    "for i in range(len(godae_ori)):\n",
    "    for gv in godae_variants:\n",
    "        for fv in fruit_variants:\n",
    "            train_examples.append(InputExample(texts=[gv[i], fv[i]], label=0.0))"
   ]
  },
  {
   "cell_type": "code",
   "execution_count": null,
   "metadata": {},
   "outputs": [],
   "source": [
    "train_dataloader = DataLoader(train_examples, shuffle=True, batch_size=8)\n",
    "train_loss = losses.CosineSimilarityLoss(model=model)"
   ]
  },
  {
   "cell_type": "code",
   "execution_count": null,
   "metadata": {},
   "outputs": [],
   "source": [
    "model.fit(\n",
    "    train_objectives=[(train_dataloader, train_loss)],\n",
    "    epochs=50,\n",
    "    warmup_steps=10,\n",
    "    output_path=\"./output/ko-sbert-kykim-finetuned\"\n",
    ")"
   ]
  },
  {
   "cell_type": "code",
   "execution_count": null,
   "metadata": {},
   "outputs": [],
   "source": [
    "sentences = [\n",
    "    \"서울의 모 회사에서 만든 반도체 설계도는 A 기술을 포함한다.\",\n",
    "    \"수도권의 한 제조업체가 사용한 공정에는 A 기법이 응용됐다..\"\n",
    "]\n",
    "\n",
    "embeddings = model.encode(sentences)\n",
    "from sklearn.metrics.pairwise import cosine_similarity\n",
    "similarity = cosine_similarity([embeddings[0]], [embeddings[1]])[0][0]\n",
    "print(f\"유사도: {similarity:.4f}\")"
   ]
  },
  {
   "cell_type": "code",
   "execution_count": null,
   "metadata": {},
   "outputs": [],
   "source": [
    "sentences = [\n",
    "    \"비록 영화에 대두한 것처럼 생물 병기 수준까지는 아니지만, 실제 고대 생물들 대부분 역시도 현대 생물보다 무섭던 맹수들인 경우가 대부분였기에 너무 근거없는 클리셰는 아닌 셈이다.\",\n",
    "    \"실제 고대 생물들 상당수 역시도 현대 생물보다 무시무시했던 맹수들인 경우가 상당수였다. 아주 근거없는 클리셰는 아닌 셈이다.\"\n",
    "]\n",
    "\n",
    "embeddings = model.encode(sentences)\n",
    "from sklearn.metrics.pairwise import cosine_similarity\n",
    "similarity = cosine_similarity([embeddings[0]], [embeddings[1]])[0][0]\n",
    "print(f\"유사도: {similarity:.4f}\")"
   ]
  },
  {
   "cell_type": "code",
   "execution_count": null,
   "metadata": {},
   "outputs": [],
   "source": [
    "sentences = [\n",
    "    \"사실 각 지역 간에 정형화된 패턴의 고대는 존재하지 않는다. 중세 또한 존재하지 않는다.\",\n",
    "    \"해당 뜻에 따르면 '풀에서 나는 식용 가능한 실과'는 엄밀히 말해 과실이 아니다.\"\n",
    "]\n",
    "\n",
    "embeddings = model.encode(sentences)\n",
    "from sklearn.metrics.pairwise import cosine_similarity\n",
    "similarity = cosine_similarity([embeddings[0]], [embeddings[1]])[0][0]\n",
    "print(f\"유사도: {similarity:.4f}\")"
   ]
  }
 ],
 "metadata": {
  "kernelspec": {
   "display_name": "Base",
   "language": "python",
   "name": "python3"
  },
  "language_info": {
   "codemirror_mode": {
    "name": "ipython",
    "version": 3
   },
   "file_extension": ".py",
   "mimetype": "text/x-python",
   "name": "python",
   "nbconvert_exporter": "python",
   "pygments_lexer": "ipython3",
   "version": "3.11.11"
  }
 },
 "nbformat": 4,
 "nbformat_minor": 2
}
